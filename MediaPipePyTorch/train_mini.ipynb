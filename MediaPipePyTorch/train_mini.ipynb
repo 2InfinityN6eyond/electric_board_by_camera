{
 "cells": [
  {
   "cell_type": "code",
   "execution_count": 1,
   "metadata": {},
   "outputs": [
    {
     "name": "stdout",
     "output_type": "stream",
     "text": [
      "use_gpu:True\n"
     ]
    }
   ],
   "source": [
    "import tqdm\n",
    "import torch\n",
    "import torch.nn as nn\n",
    "import torch.optim as optim\n",
    "from torch.autograd import Variable\n",
    "import time\n",
    "import numpy as np\n",
    "import os\n",
    "import argparse\n",
    "\n",
    "from contact_dataset import makeTrainValidDataLoaders, makeTestDataLoaders\n",
    "from blazehand_contact import BlazeHandContact\n",
    "\n",
    "torch.set_grad_enabled(True)\n",
    "use_gpu = torch.cuda.is_available()\n",
    "print(\"use_gpu:{}\".format(use_gpu))\n",
    "\n",
    "parser = argparse.ArgumentParser(description=\"PyTorch implementation of SENet\")\n",
    "parser.add_argument('--data_root_path', type=str, default=\"../all\")\n",
    "parser.add_argument('--batch_size',  type=int, default=140)\n",
    "parser.add_argument('--val_ratio',   type=float, default=0.2)\n",
    "parser.add_argument('--num_class',   type=int, default=6)\n",
    "parser.add_argument('--num_epochs',  type=int, default=100)\n",
    "parser.add_argument('--lr',          type=float, default=0.0001)\n",
    "parser.add_argument('--num_workers', type=int, default=0)\n",
    "parser.add_argument('--gpus',        type=str, default=0)\n",
    "parser.add_argument('--print_freq',  type=int, default=10)\n",
    "parser.add_argument('--save_epoch_freq', type=int, default=1)\n",
    "parser.add_argument('--save_path',   type=str, default = \"./mini_checkpoints\")\n",
    "parser.add_argument('--resume',      type=str, default=\"\", help=\"For training from one checkpoint\")\n",
    "parser.add_argument('--start-epoch', type=int, default=0, help=\"Corresponding to the epoch of resume \")\n",
    "args = parser.parse_args(\n",
    "    args = \"--resume ./checkpoints/epoch_1_1668143324.pth\".split()\n",
    ")\n",
    "\n",
    "\n",
    "from contact_dataset import ContactDataSet\n",
    "from torch.utils.data import Dataset, DataLoader, Subset\n",
    "from sklearn.model_selection import train_test_split\n",
    "\n",
    "def makeTrainValidDataLoaders(\n",
    "    data_root_path,\n",
    "    num_data,\n",
    "    val_ratio,\n",
    "    batch_size\n",
    ") :\n",
    "\n",
    "    whole_dataset = ContactDataSet(\n",
    "        data_root_path,\n",
    "        np.random.choice(\n",
    "            list(filter(\n",
    "                lambda image_path : \"png\" in image_path,\n",
    "                os.listdir(data_root_path)\n",
    "            )),\n",
    "            num_data\n",
    "        )\n",
    "    )\n",
    "\n",
    "    print(len(whole_dataset))\n",
    "\n",
    "    train_idx, val_idx = train_test_split(\n",
    "        list(range(len(whole_dataset))), test_size = val_ratio\n",
    "    )\n",
    "    train_dataset = Subset(whole_dataset, train_idx)\n",
    "    valid_dataset = Subset(whole_dataset, val_idx)\n",
    "\n",
    "    train_data_loader = DataLoader(\n",
    "        train_dataset,\n",
    "        batch_size = batch_size,\n",
    "        shuffle=True\n",
    "    )\n",
    "    valid_data_loader = DataLoader(\n",
    "        valid_dataset,\n",
    "        batch_size = batch_size,\n",
    "        shuffle=True\n",
    "    )\n",
    "    return train_data_loader, valid_data_loader \n"
   ]
  },
  {
   "cell_type": "code",
   "execution_count": 2,
   "metadata": {},
   "outputs": [
    {
     "name": "stdout",
     "output_type": "stream",
     "text": [
      "1000\n",
      "model ./checkpoints/epoch_1_1668143324.pth loaded, epoch start at 2\n"
     ]
    }
   ],
   "source": [
    "train_data_loader, valid_data_loader = makeTrainValidDataLoaders(\n",
    "    args.data_root_path,\n",
    "    1000,\n",
    "    args.val_ratio,\n",
    "    args.batch_size,\n",
    ")\n",
    "\n",
    "model = BlazeHandContact()\n",
    "if use_gpu:\n",
    "    model = model.cuda()\n",
    "\n",
    "if args.resume :\n",
    "    if os.path.isfile(args.resume) :\n",
    "        model.load_weights(args.resume)\n",
    "        if \"blaze\" in args.resume :\n",
    "            args.statr_epoch = 0\n",
    "        else :\n",
    "            args.start_epoch = int(args.resume.split(\"_\")[1]) + 1\n",
    "            \n",
    "        print(f\"model {args.resume} loaded, epoch start at {args.start_epoch}\")\n",
    "\n",
    "criterion = nn.MSELoss()\n",
    "optimizer = optim.Adam(\n",
    "    model.parameters(), lr = args.lr,\n",
    ")"
   ]
  },
  {
   "cell_type": "code",
   "execution_count": 6,
   "metadata": {},
   "outputs": [
    {
     "data": {
      "text/plain": [
       "BlazeHandContact(\n",
       "  (backbone1): Sequential(\n",
       "    (0): Conv2d(3, 24, kernel_size=(3, 3), stride=(2, 2))\n",
       "    (1): ReLU()\n",
       "    (2): BlazeBlock(\n",
       "      (convs): Sequential(\n",
       "        (0): Conv2d(24, 24, kernel_size=(5, 5), stride=(1, 1), padding=(2, 2), groups=24)\n",
       "        (1): Conv2d(24, 24, kernel_size=(1, 1), stride=(1, 1))\n",
       "      )\n",
       "      (act): ReLU()\n",
       "    )\n",
       "    (3): BlazeBlock(\n",
       "      (convs): Sequential(\n",
       "        (0): Conv2d(24, 24, kernel_size=(5, 5), stride=(1, 1), padding=(2, 2), groups=24)\n",
       "        (1): Conv2d(24, 24, kernel_size=(1, 1), stride=(1, 1))\n",
       "      )\n",
       "      (act): ReLU()\n",
       "    )\n",
       "    (4): BlazeBlock(\n",
       "      (max_pool): MaxPool2d(kernel_size=2, stride=2, padding=0, dilation=1, ceil_mode=False)\n",
       "      (convs): Sequential(\n",
       "        (0): Conv2d(24, 24, kernel_size=(5, 5), stride=(2, 2), groups=24)\n",
       "        (1): Conv2d(24, 48, kernel_size=(1, 1), stride=(1, 1))\n",
       "      )\n",
       "      (act): ReLU()\n",
       "    )\n",
       "  )\n",
       "  (backbone2): Sequential(\n",
       "    (0): BlazeBlock(\n",
       "      (convs): Sequential(\n",
       "        (0): Conv2d(48, 48, kernel_size=(5, 5), stride=(1, 1), padding=(2, 2), groups=48)\n",
       "        (1): Conv2d(48, 48, kernel_size=(1, 1), stride=(1, 1))\n",
       "      )\n",
       "      (act): ReLU()\n",
       "    )\n",
       "    (1): BlazeBlock(\n",
       "      (convs): Sequential(\n",
       "        (0): Conv2d(48, 48, kernel_size=(5, 5), stride=(1, 1), padding=(2, 2), groups=48)\n",
       "        (1): Conv2d(48, 48, kernel_size=(1, 1), stride=(1, 1))\n",
       "      )\n",
       "      (act): ReLU()\n",
       "    )\n",
       "    (2): BlazeBlock(\n",
       "      (max_pool): MaxPool2d(kernel_size=2, stride=2, padding=0, dilation=1, ceil_mode=False)\n",
       "      (convs): Sequential(\n",
       "        (0): Conv2d(48, 48, kernel_size=(5, 5), stride=(2, 2), groups=48)\n",
       "        (1): Conv2d(48, 96, kernel_size=(1, 1), stride=(1, 1))\n",
       "      )\n",
       "      (act): ReLU()\n",
       "    )\n",
       "  )\n",
       "  (backbone3): Sequential(\n",
       "    (0): BlazeBlock(\n",
       "      (convs): Sequential(\n",
       "        (0): Conv2d(96, 96, kernel_size=(5, 5), stride=(1, 1), padding=(2, 2), groups=96)\n",
       "        (1): Conv2d(96, 96, kernel_size=(1, 1), stride=(1, 1))\n",
       "      )\n",
       "      (act): ReLU()\n",
       "    )\n",
       "    (1): BlazeBlock(\n",
       "      (convs): Sequential(\n",
       "        (0): Conv2d(96, 96, kernel_size=(5, 5), stride=(1, 1), padding=(2, 2), groups=96)\n",
       "        (1): Conv2d(96, 96, kernel_size=(1, 1), stride=(1, 1))\n",
       "      )\n",
       "      (act): ReLU()\n",
       "    )\n",
       "    (2): BlazeBlock(\n",
       "      (max_pool): MaxPool2d(kernel_size=2, stride=2, padding=0, dilation=1, ceil_mode=False)\n",
       "      (convs): Sequential(\n",
       "        (0): Conv2d(96, 96, kernel_size=(5, 5), stride=(2, 2), groups=96)\n",
       "        (1): Conv2d(96, 96, kernel_size=(1, 1), stride=(1, 1))\n",
       "      )\n",
       "      (act): ReLU()\n",
       "    )\n",
       "  )\n",
       "  (backbone4): Sequential(\n",
       "    (0): BlazeBlock(\n",
       "      (convs): Sequential(\n",
       "        (0): Conv2d(96, 96, kernel_size=(5, 5), stride=(1, 1), padding=(2, 2), groups=96)\n",
       "        (1): Conv2d(96, 96, kernel_size=(1, 1), stride=(1, 1))\n",
       "      )\n",
       "      (act): ReLU()\n",
       "    )\n",
       "    (1): BlazeBlock(\n",
       "      (convs): Sequential(\n",
       "        (0): Conv2d(96, 96, kernel_size=(5, 5), stride=(1, 1), padding=(2, 2), groups=96)\n",
       "        (1): Conv2d(96, 96, kernel_size=(1, 1), stride=(1, 1))\n",
       "      )\n",
       "      (act): ReLU()\n",
       "    )\n",
       "    (2): BlazeBlock(\n",
       "      (max_pool): MaxPool2d(kernel_size=2, stride=2, padding=0, dilation=1, ceil_mode=False)\n",
       "      (convs): Sequential(\n",
       "        (0): Conv2d(96, 96, kernel_size=(5, 5), stride=(2, 2), groups=96)\n",
       "        (1): Conv2d(96, 96, kernel_size=(1, 1), stride=(1, 1))\n",
       "      )\n",
       "      (act): ReLU()\n",
       "    )\n",
       "  )\n",
       "  (blaze5): BlazeBlock(\n",
       "    (convs): Sequential(\n",
       "      (0): Conv2d(96, 96, kernel_size=(5, 5), stride=(1, 1), padding=(2, 2), groups=96)\n",
       "      (1): Conv2d(96, 96, kernel_size=(1, 1), stride=(1, 1))\n",
       "    )\n",
       "    (act): ReLU()\n",
       "  )\n",
       "  (blaze6): BlazeBlock(\n",
       "    (convs): Sequential(\n",
       "      (0): Conv2d(96, 96, kernel_size=(5, 5), stride=(1, 1), padding=(2, 2), groups=96)\n",
       "      (1): Conv2d(96, 96, kernel_size=(1, 1), stride=(1, 1))\n",
       "    )\n",
       "    (act): ReLU()\n",
       "  )\n",
       "  (conv7): Conv2d(96, 48, kernel_size=(1, 1), stride=(1, 1))\n",
       "  (backbone8): Sequential(\n",
       "    (0): BlazeBlock(\n",
       "      (convs): Sequential(\n",
       "        (0): Conv2d(48, 48, kernel_size=(5, 5), stride=(1, 1), padding=(2, 2), groups=48)\n",
       "        (1): Conv2d(48, 48, kernel_size=(1, 1), stride=(1, 1))\n",
       "      )\n",
       "      (act): ReLU()\n",
       "    )\n",
       "    (1): BlazeBlock(\n",
       "      (convs): Sequential(\n",
       "        (0): Conv2d(48, 48, kernel_size=(5, 5), stride=(1, 1), padding=(2, 2), groups=48)\n",
       "        (1): Conv2d(48, 48, kernel_size=(1, 1), stride=(1, 1))\n",
       "      )\n",
       "      (act): ReLU()\n",
       "    )\n",
       "    (2): BlazeBlock(\n",
       "      (convs): Sequential(\n",
       "        (0): Conv2d(48, 48, kernel_size=(5, 5), stride=(1, 1), padding=(2, 2), groups=48)\n",
       "        (1): Conv2d(48, 48, kernel_size=(1, 1), stride=(1, 1))\n",
       "      )\n",
       "      (act): ReLU()\n",
       "    )\n",
       "    (3): BlazeBlock(\n",
       "      (convs): Sequential(\n",
       "        (0): Conv2d(48, 48, kernel_size=(5, 5), stride=(1, 1), padding=(2, 2), groups=48)\n",
       "        (1): Conv2d(48, 48, kernel_size=(1, 1), stride=(1, 1))\n",
       "      )\n",
       "      (act): ReLU()\n",
       "    )\n",
       "    (4): BlazeBlock(\n",
       "      (max_pool): MaxPool2d(kernel_size=2, stride=2, padding=0, dilation=1, ceil_mode=False)\n",
       "      (convs): Sequential(\n",
       "        (0): Conv2d(48, 48, kernel_size=(5, 5), stride=(2, 2), groups=48)\n",
       "        (1): Conv2d(48, 96, kernel_size=(1, 1), stride=(1, 1))\n",
       "      )\n",
       "      (act): ReLU()\n",
       "    )\n",
       "    (5): BlazeBlock(\n",
       "      (convs): Sequential(\n",
       "        (0): Conv2d(96, 96, kernel_size=(5, 5), stride=(1, 1), padding=(2, 2), groups=96)\n",
       "        (1): Conv2d(96, 96, kernel_size=(1, 1), stride=(1, 1))\n",
       "      )\n",
       "      (act): ReLU()\n",
       "    )\n",
       "    (6): BlazeBlock(\n",
       "      (convs): Sequential(\n",
       "        (0): Conv2d(96, 96, kernel_size=(5, 5), stride=(1, 1), padding=(2, 2), groups=96)\n",
       "        (1): Conv2d(96, 96, kernel_size=(1, 1), stride=(1, 1))\n",
       "      )\n",
       "      (act): ReLU()\n",
       "    )\n",
       "    (7): BlazeBlock(\n",
       "      (convs): Sequential(\n",
       "        (0): Conv2d(96, 96, kernel_size=(5, 5), stride=(1, 1), padding=(2, 2), groups=96)\n",
       "        (1): Conv2d(96, 96, kernel_size=(1, 1), stride=(1, 1))\n",
       "      )\n",
       "      (act): ReLU()\n",
       "    )\n",
       "    (8): BlazeBlock(\n",
       "      (convs): Sequential(\n",
       "        (0): Conv2d(96, 96, kernel_size=(5, 5), stride=(1, 1), padding=(2, 2), groups=96)\n",
       "        (1): Conv2d(96, 96, kernel_size=(1, 1), stride=(1, 1))\n",
       "      )\n",
       "      (act): ReLU()\n",
       "    )\n",
       "    (9): BlazeBlock(\n",
       "      (max_pool): MaxPool2d(kernel_size=2, stride=2, padding=0, dilation=1, ceil_mode=False)\n",
       "      (convs): Sequential(\n",
       "        (0): Conv2d(96, 96, kernel_size=(5, 5), stride=(2, 2), groups=96)\n",
       "        (1): Conv2d(96, 288, kernel_size=(1, 1), stride=(1, 1))\n",
       "      )\n",
       "      (act): ReLU()\n",
       "    )\n",
       "    (10): BlazeBlock(\n",
       "      (convs): Sequential(\n",
       "        (0): Conv2d(288, 288, kernel_size=(5, 5), stride=(1, 1), padding=(2, 2), groups=288)\n",
       "        (1): Conv2d(288, 288, kernel_size=(1, 1), stride=(1, 1))\n",
       "      )\n",
       "      (act): ReLU()\n",
       "    )\n",
       "    (11): BlazeBlock(\n",
       "      (convs): Sequential(\n",
       "        (0): Conv2d(288, 288, kernel_size=(5, 5), stride=(1, 1), padding=(2, 2), groups=288)\n",
       "        (1): Conv2d(288, 288, kernel_size=(1, 1), stride=(1, 1))\n",
       "      )\n",
       "      (act): ReLU()\n",
       "    )\n",
       "    (12): BlazeBlock(\n",
       "      (convs): Sequential(\n",
       "        (0): Conv2d(288, 288, kernel_size=(5, 5), stride=(1, 1), padding=(2, 2), groups=288)\n",
       "        (1): Conv2d(288, 288, kernel_size=(1, 1), stride=(1, 1))\n",
       "      )\n",
       "      (act): ReLU()\n",
       "    )\n",
       "    (13): BlazeBlock(\n",
       "      (convs): Sequential(\n",
       "        (0): Conv2d(288, 288, kernel_size=(5, 5), stride=(1, 1), padding=(2, 2), groups=288)\n",
       "        (1): Conv2d(288, 288, kernel_size=(1, 1), stride=(1, 1))\n",
       "      )\n",
       "      (act): ReLU()\n",
       "    )\n",
       "    (14): BlazeBlock(\n",
       "      (max_pool): MaxPool2d(kernel_size=2, stride=2, padding=0, dilation=1, ceil_mode=False)\n",
       "      (convs): Sequential(\n",
       "        (0): Conv2d(288, 288, kernel_size=(5, 5), stride=(2, 2), groups=288)\n",
       "        (1): Conv2d(288, 288, kernel_size=(1, 1), stride=(1, 1))\n",
       "      )\n",
       "      (act): ReLU()\n",
       "    )\n",
       "    (15): BlazeBlock(\n",
       "      (convs): Sequential(\n",
       "        (0): Conv2d(288, 288, kernel_size=(5, 5), stride=(1, 1), padding=(2, 2), groups=288)\n",
       "        (1): Conv2d(288, 288, kernel_size=(1, 1), stride=(1, 1))\n",
       "      )\n",
       "      (act): ReLU()\n",
       "    )\n",
       "    (16): BlazeBlock(\n",
       "      (convs): Sequential(\n",
       "        (0): Conv2d(288, 288, kernel_size=(5, 5), stride=(1, 1), padding=(2, 2), groups=288)\n",
       "        (1): Conv2d(288, 288, kernel_size=(1, 1), stride=(1, 1))\n",
       "      )\n",
       "      (act): ReLU()\n",
       "    )\n",
       "    (17): BlazeBlock(\n",
       "      (convs): Sequential(\n",
       "        (0): Conv2d(288, 288, kernel_size=(5, 5), stride=(1, 1), padding=(2, 2), groups=288)\n",
       "        (1): Conv2d(288, 288, kernel_size=(1, 1), stride=(1, 1))\n",
       "      )\n",
       "      (act): ReLU()\n",
       "    )\n",
       "    (18): BlazeBlock(\n",
       "      (convs): Sequential(\n",
       "        (0): Conv2d(288, 288, kernel_size=(5, 5), stride=(1, 1), padding=(2, 2), groups=288)\n",
       "        (1): Conv2d(288, 288, kernel_size=(1, 1), stride=(1, 1))\n",
       "      )\n",
       "      (act): ReLU()\n",
       "    )\n",
       "    (19): BlazeBlock(\n",
       "      (max_pool): MaxPool2d(kernel_size=2, stride=2, padding=0, dilation=1, ceil_mode=False)\n",
       "      (convs): Sequential(\n",
       "        (0): Conv2d(288, 288, kernel_size=(5, 5), stride=(2, 2), groups=288)\n",
       "        (1): Conv2d(288, 288, kernel_size=(1, 1), stride=(1, 1))\n",
       "      )\n",
       "      (act): ReLU()\n",
       "    )\n",
       "    (20): BlazeBlock(\n",
       "      (convs): Sequential(\n",
       "        (0): Conv2d(288, 288, kernel_size=(5, 5), stride=(1, 1), padding=(2, 2), groups=288)\n",
       "        (1): Conv2d(288, 288, kernel_size=(1, 1), stride=(1, 1))\n",
       "      )\n",
       "      (act): ReLU()\n",
       "    )\n",
       "    (21): BlazeBlock(\n",
       "      (convs): Sequential(\n",
       "        (0): Conv2d(288, 288, kernel_size=(5, 5), stride=(1, 1), padding=(2, 2), groups=288)\n",
       "        (1): Conv2d(288, 288, kernel_size=(1, 1), stride=(1, 1))\n",
       "      )\n",
       "      (act): ReLU()\n",
       "    )\n",
       "    (22): BlazeBlock(\n",
       "      (convs): Sequential(\n",
       "        (0): Conv2d(288, 288, kernel_size=(5, 5), stride=(1, 1), padding=(2, 2), groups=288)\n",
       "        (1): Conv2d(288, 288, kernel_size=(1, 1), stride=(1, 1))\n",
       "      )\n",
       "      (act): ReLU()\n",
       "    )\n",
       "    (23): BlazeBlock(\n",
       "      (convs): Sequential(\n",
       "        (0): Conv2d(288, 288, kernel_size=(5, 5), stride=(1, 1), padding=(2, 2), groups=288)\n",
       "        (1): Conv2d(288, 288, kernel_size=(1, 1), stride=(1, 1))\n",
       "      )\n",
       "      (act): ReLU()\n",
       "    )\n",
       "    (24): BlazeBlock(\n",
       "      (max_pool): MaxPool2d(kernel_size=2, stride=2, padding=0, dilation=1, ceil_mode=False)\n",
       "      (convs): Sequential(\n",
       "        (0): Conv2d(288, 288, kernel_size=(5, 5), stride=(2, 2), groups=288)\n",
       "        (1): Conv2d(288, 288, kernel_size=(1, 1), stride=(1, 1))\n",
       "      )\n",
       "      (act): ReLU()\n",
       "    )\n",
       "    (25): BlazeBlock(\n",
       "      (convs): Sequential(\n",
       "        (0): Conv2d(288, 288, kernel_size=(5, 5), stride=(1, 1), padding=(2, 2), groups=288)\n",
       "        (1): Conv2d(288, 288, kernel_size=(1, 1), stride=(1, 1))\n",
       "      )\n",
       "      (act): ReLU()\n",
       "    )\n",
       "    (26): BlazeBlock(\n",
       "      (convs): Sequential(\n",
       "        (0): Conv2d(288, 288, kernel_size=(5, 5), stride=(1, 1), padding=(2, 2), groups=288)\n",
       "        (1): Conv2d(288, 288, kernel_size=(1, 1), stride=(1, 1))\n",
       "      )\n",
       "      (act): ReLU()\n",
       "    )\n",
       "    (27): BlazeBlock(\n",
       "      (convs): Sequential(\n",
       "        (0): Conv2d(288, 288, kernel_size=(5, 5), stride=(1, 1), padding=(2, 2), groups=288)\n",
       "        (1): Conv2d(288, 288, kernel_size=(1, 1), stride=(1, 1))\n",
       "      )\n",
       "      (act): ReLU()\n",
       "    )\n",
       "    (28): BlazeBlock(\n",
       "      (convs): Sequential(\n",
       "        (0): Conv2d(288, 288, kernel_size=(5, 5), stride=(1, 1), padding=(2, 2), groups=288)\n",
       "        (1): Conv2d(288, 288, kernel_size=(1, 1), stride=(1, 1))\n",
       "      )\n",
       "      (act): ReLU()\n",
       "    )\n",
       "  )\n",
       "  (hand_flag): Conv2d(288, 1, kernel_size=(2, 2), stride=(1, 1))\n",
       "  (handed): Conv2d(288, 1, kernel_size=(2, 2), stride=(1, 1))\n",
       "  (landmarks): Conv2d(288, 63, kernel_size=(2, 2), stride=(1, 1))\n",
       "  (sigmoid): Sigmoid()\n",
       ")"
      ]
     },
     "execution_count": 6,
     "metadata": {},
     "output_type": "execute_result"
    }
   ],
   "source": [
    "model.train()"
   ]
  },
  {
   "cell_type": "code",
   "execution_count": 3,
   "metadata": {},
   "outputs": [
    {
     "name": "stdout",
     "output_type": "stream",
     "text": [
      "  3->  3->103\n"
     ]
    },
    {
     "name": "stderr",
     "output_type": "stream",
     "text": [
      "train: 100%|██████████| 800/800 [00:07<00:00, 106.94img/s, loss:0.000034 acc:0.965000]\n",
      "valid: 100%|██████████| 200/200 [00:01<00:00, 199.35img/s, loss:0.000021 acc:0.990000]\n"
     ]
    },
    {
     "name": "stdout",
     "output_type": "stream",
     "text": [
      "  3->  4->103\n"
     ]
    },
    {
     "name": "stderr",
     "output_type": "stream",
     "text": [
      "train: 100%|██████████| 800/800 [00:02<00:00, 300.45img/s, loss:0.000020 acc:0.986250]\n",
      "valid: 100%|██████████| 200/200 [00:00<00:00, 427.14img/s, loss:0.000016 acc:1.000000]\n"
     ]
    },
    {
     "name": "stdout",
     "output_type": "stream",
     "text": [
      "  3->  5->103\n"
     ]
    },
    {
     "name": "stderr",
     "output_type": "stream",
     "text": [
      "train: 100%|██████████| 800/800 [00:02<00:00, 297.09img/s, loss:0.000014 acc:0.991250]\n",
      "valid: 100%|██████████| 200/200 [00:00<00:00, 426.58img/s, loss:0.000021 acc:0.995000]\n"
     ]
    },
    {
     "name": "stdout",
     "output_type": "stream",
     "text": [
      "  3->  6->103\n"
     ]
    },
    {
     "name": "stderr",
     "output_type": "stream",
     "text": [
      "train: 100%|██████████| 800/800 [00:02<00:00, 298.97img/s, loss:0.000009 acc:0.996250]\n",
      "valid: 100%|██████████| 200/200 [00:00<00:00, 420.08img/s, loss:0.000007 acc:1.000000]\n"
     ]
    },
    {
     "name": "stdout",
     "output_type": "stream",
     "text": [
      "  3->  7->103\n"
     ]
    },
    {
     "name": "stderr",
     "output_type": "stream",
     "text": [
      "train: 100%|██████████| 800/800 [00:02<00:00, 297.56img/s, loss:0.000006 acc:0.998750]\n",
      "valid: 100%|██████████| 200/200 [00:00<00:00, 428.61img/s, loss:0.000010 acc:0.990000]\n"
     ]
    },
    {
     "name": "stdout",
     "output_type": "stream",
     "text": [
      "  3->  8->103\n"
     ]
    },
    {
     "name": "stderr",
     "output_type": "stream",
     "text": [
      "train: 100%|██████████| 800/800 [00:02<00:00, 299.20img/s, loss:0.000005 acc:0.998750]\n",
      "valid: 100%|██████████| 200/200 [00:00<00:00, 420.17img/s, loss:0.000006 acc:1.000000]\n"
     ]
    },
    {
     "name": "stdout",
     "output_type": "stream",
     "text": [
      "  3->  9->103\n"
     ]
    },
    {
     "name": "stderr",
     "output_type": "stream",
     "text": [
      "train: 100%|██████████| 800/800 [00:02<00:00, 298.47img/s, loss:0.000003 acc:0.998750]\n",
      "valid: 100%|██████████| 200/200 [00:00<00:00, 432.81img/s, loss:0.000007 acc:1.000000]\n"
     ]
    },
    {
     "name": "stdout",
     "output_type": "stream",
     "text": [
      "  3-> 10->103\n"
     ]
    },
    {
     "name": "stderr",
     "output_type": "stream",
     "text": [
      "train: 100%|██████████| 800/800 [00:02<00:00, 298.75img/s, loss:0.000002 acc:0.998750]\n",
      "valid: 100%|██████████| 200/200 [00:00<00:00, 427.05img/s, loss:0.000008 acc:0.995000]\n"
     ]
    },
    {
     "name": "stdout",
     "output_type": "stream",
     "text": [
      "  3-> 11->103\n"
     ]
    },
    {
     "name": "stderr",
     "output_type": "stream",
     "text": [
      "train: 100%|██████████| 800/800 [00:02<00:00, 295.76img/s, loss:0.000002 acc:1.000000]\n",
      "valid: 100%|██████████| 200/200 [00:00<00:00, 425.60img/s, loss:0.000009 acc:1.000000]\n"
     ]
    },
    {
     "name": "stdout",
     "output_type": "stream",
     "text": [
      "  3-> 12->103\n"
     ]
    },
    {
     "name": "stderr",
     "output_type": "stream",
     "text": [
      "train: 100%|██████████| 800/800 [00:02<00:00, 294.93img/s, loss:0.000001 acc:1.000000]\n",
      "valid: 100%|██████████| 200/200 [00:00<00:00, 431.01img/s, loss:0.000008 acc:1.000000]\n"
     ]
    },
    {
     "name": "stdout",
     "output_type": "stream",
     "text": [
      "  3-> 13->103\n"
     ]
    },
    {
     "name": "stderr",
     "output_type": "stream",
     "text": [
      "train: 100%|██████████| 800/800 [00:02<00:00, 297.78img/s, loss:0.000001 acc:1.000000]\n",
      "valid: 100%|██████████| 200/200 [00:00<00:00, 434.04img/s, loss:0.000010 acc:1.000000]\n"
     ]
    },
    {
     "name": "stdout",
     "output_type": "stream",
     "text": [
      "  3-> 14->103\n"
     ]
    },
    {
     "name": "stderr",
     "output_type": "stream",
     "text": [
      "train: 100%|██████████| 800/800 [00:02<00:00, 297.82img/s, loss:0.000001 acc:1.000000]\n",
      "valid: 100%|██████████| 200/200 [00:00<00:00, 422.62img/s, loss:0.000008 acc:1.000000]\n"
     ]
    },
    {
     "name": "stdout",
     "output_type": "stream",
     "text": [
      "  3-> 15->103\n"
     ]
    },
    {
     "name": "stderr",
     "output_type": "stream",
     "text": [
      "train: 100%|██████████| 800/800 [00:02<00:00, 299.67img/s, loss:0.000001 acc:1.000000]\n",
      "valid: 100%|██████████| 200/200 [00:00<00:00, 408.84img/s, loss:0.000006 acc:1.000000]\n"
     ]
    },
    {
     "name": "stdout",
     "output_type": "stream",
     "text": [
      "  3-> 16->103\n"
     ]
    },
    {
     "name": "stderr",
     "output_type": "stream",
     "text": [
      "train: 100%|██████████| 800/800 [00:02<00:00, 299.17img/s, loss:0.000001 acc:1.000000]\n",
      "valid: 100%|██████████| 200/200 [00:00<00:00, 421.80img/s, loss:0.000006 acc:1.000000]\n"
     ]
    },
    {
     "name": "stdout",
     "output_type": "stream",
     "text": [
      "  3-> 17->103\n"
     ]
    },
    {
     "name": "stderr",
     "output_type": "stream",
     "text": [
      "train: 100%|██████████| 800/800 [00:02<00:00, 299.49img/s, loss:0.000001 acc:1.000000]\n",
      "valid: 100%|██████████| 200/200 [00:00<00:00, 417.81img/s, loss:0.000007 acc:1.000000]\n"
     ]
    },
    {
     "name": "stdout",
     "output_type": "stream",
     "text": [
      "  3-> 18->103\n"
     ]
    },
    {
     "name": "stderr",
     "output_type": "stream",
     "text": [
      "train: 100%|██████████| 800/800 [00:02<00:00, 298.12img/s, loss:0.000001 acc:1.000000]\n",
      "valid: 100%|██████████| 200/200 [00:00<00:00, 424.48img/s, loss:0.000005 acc:1.000000]\n"
     ]
    },
    {
     "name": "stdout",
     "output_type": "stream",
     "text": [
      "  3-> 19->103\n"
     ]
    },
    {
     "name": "stderr",
     "output_type": "stream",
     "text": [
      "train: 100%|██████████| 800/800 [00:02<00:00, 300.11img/s, loss:0.000001 acc:1.000000]\n",
      "valid: 100%|██████████| 200/200 [00:00<00:00, 429.93img/s, loss:0.000005 acc:1.000000]\n"
     ]
    },
    {
     "name": "stdout",
     "output_type": "stream",
     "text": [
      "  3-> 20->103\n"
     ]
    },
    {
     "name": "stderr",
     "output_type": "stream",
     "text": [
      "train: 100%|██████████| 800/800 [00:02<00:00, 296.96img/s, loss:0.000001 acc:1.000000]\n",
      "valid: 100%|██████████| 200/200 [00:00<00:00, 413.95img/s, loss:0.000007 acc:1.000000]\n"
     ]
    },
    {
     "name": "stdout",
     "output_type": "stream",
     "text": [
      "  3-> 21->103\n"
     ]
    },
    {
     "name": "stderr",
     "output_type": "stream",
     "text": [
      "train: 100%|██████████| 800/800 [00:02<00:00, 293.68img/s, loss:0.000000 acc:1.000000]\n",
      "valid: 100%|██████████| 200/200 [00:00<00:00, 427.28img/s, loss:0.000008 acc:1.000000]\n"
     ]
    },
    {
     "name": "stdout",
     "output_type": "stream",
     "text": [
      "  3-> 22->103\n"
     ]
    },
    {
     "name": "stderr",
     "output_type": "stream",
     "text": [
      "train: 100%|██████████| 800/800 [00:02<00:00, 299.41img/s, loss:0.000000 acc:1.000000]\n",
      "valid: 100%|██████████| 200/200 [00:00<00:00, 432.24img/s, loss:0.000007 acc:1.000000]\n"
     ]
    },
    {
     "name": "stdout",
     "output_type": "stream",
     "text": [
      "  3-> 23->103\n"
     ]
    },
    {
     "name": "stderr",
     "output_type": "stream",
     "text": [
      "train: 100%|██████████| 800/800 [00:02<00:00, 298.58img/s, loss:0.000000 acc:1.000000]\n",
      "valid: 100%|██████████| 200/200 [00:00<00:00, 427.21img/s, loss:0.000007 acc:0.995000]\n"
     ]
    },
    {
     "name": "stdout",
     "output_type": "stream",
     "text": [
      "  3-> 24->103\n"
     ]
    },
    {
     "name": "stderr",
     "output_type": "stream",
     "text": [
      "train: 100%|██████████| 800/800 [00:02<00:00, 293.41img/s, loss:0.000000 acc:1.000000]\n",
      "valid: 100%|██████████| 200/200 [00:00<00:00, 413.06img/s, loss:0.000007 acc:1.000000]\n"
     ]
    },
    {
     "name": "stdout",
     "output_type": "stream",
     "text": [
      "  3-> 25->103\n"
     ]
    },
    {
     "name": "stderr",
     "output_type": "stream",
     "text": [
      "train: 100%|██████████| 800/800 [00:02<00:00, 295.29img/s, loss:0.000000 acc:1.000000]\n",
      "valid: 100%|██████████| 200/200 [00:00<00:00, 426.20img/s, loss:0.000007 acc:0.995000]\n"
     ]
    },
    {
     "name": "stdout",
     "output_type": "stream",
     "text": [
      "  3-> 26->103\n"
     ]
    },
    {
     "name": "stderr",
     "output_type": "stream",
     "text": [
      "train: 100%|██████████| 800/800 [00:02<00:00, 298.34img/s, loss:0.000000 acc:1.000000]\n",
      "valid: 100%|██████████| 200/200 [00:00<00:00, 422.72img/s, loss:0.000007 acc:0.995000]\n"
     ]
    },
    {
     "name": "stdout",
     "output_type": "stream",
     "text": [
      "  3-> 27->103\n"
     ]
    },
    {
     "name": "stderr",
     "output_type": "stream",
     "text": [
      "train: 100%|██████████| 800/800 [00:02<00:00, 294.05img/s, loss:0.000000 acc:1.000000]\n",
      "valid: 100%|██████████| 200/200 [00:00<00:00, 425.31img/s, loss:0.000009 acc:0.995000]\n"
     ]
    },
    {
     "name": "stdout",
     "output_type": "stream",
     "text": [
      "  3-> 28->103\n"
     ]
    },
    {
     "name": "stderr",
     "output_type": "stream",
     "text": [
      "train: 100%|██████████| 800/800 [00:02<00:00, 298.02img/s, loss:0.000000 acc:1.000000]\n",
      "valid: 100%|██████████| 200/200 [00:00<00:00, 430.89img/s, loss:0.000007 acc:0.995000]\n"
     ]
    },
    {
     "name": "stdout",
     "output_type": "stream",
     "text": [
      "  3-> 29->103\n"
     ]
    },
    {
     "name": "stderr",
     "output_type": "stream",
     "text": [
      "train: 100%|██████████| 800/800 [00:02<00:00, 297.93img/s, loss:0.000000 acc:1.000000]\n",
      "valid: 100%|██████████| 200/200 [00:00<00:00, 426.46img/s, loss:0.000007 acc:0.995000]\n"
     ]
    },
    {
     "name": "stdout",
     "output_type": "stream",
     "text": [
      "  3-> 30->103\n"
     ]
    },
    {
     "name": "stderr",
     "output_type": "stream",
     "text": [
      "train: 100%|██████████| 800/800 [00:02<00:00, 297.65img/s, loss:0.000000 acc:1.000000]\n",
      "valid: 100%|██████████| 200/200 [00:00<00:00, 427.22img/s, loss:0.000007 acc:0.995000]\n"
     ]
    },
    {
     "name": "stdout",
     "output_type": "stream",
     "text": [
      "  3-> 31->103\n"
     ]
    },
    {
     "name": "stderr",
     "output_type": "stream",
     "text": [
      "train: 100%|██████████| 800/800 [00:02<00:00, 300.42img/s, loss:0.000000 acc:1.000000]\n",
      "valid: 100%|██████████| 200/200 [00:00<00:00, 424.25img/s, loss:0.000005 acc:0.995000]\n"
     ]
    },
    {
     "name": "stdout",
     "output_type": "stream",
     "text": [
      "  3-> 32->103\n"
     ]
    },
    {
     "name": "stderr",
     "output_type": "stream",
     "text": [
      "train: 100%|██████████| 800/800 [00:02<00:00, 293.54img/s, loss:0.000000 acc:1.000000]\n",
      "valid: 100%|██████████| 200/200 [00:00<00:00, 427.08img/s, loss:0.000007 acc:0.995000]\n"
     ]
    },
    {
     "name": "stdout",
     "output_type": "stream",
     "text": [
      "  3-> 33->103\n"
     ]
    },
    {
     "name": "stderr",
     "output_type": "stream",
     "text": [
      "train: 100%|██████████| 800/800 [00:02<00:00, 294.54img/s, loss:0.000000 acc:1.000000]\n",
      "valid: 100%|██████████| 200/200 [00:00<00:00, 404.48img/s, loss:0.000007 acc:0.995000]\n"
     ]
    },
    {
     "name": "stdout",
     "output_type": "stream",
     "text": [
      "  3-> 34->103\n"
     ]
    },
    {
     "name": "stderr",
     "output_type": "stream",
     "text": [
      "train: 100%|██████████| 800/800 [00:02<00:00, 292.46img/s, loss:0.000000 acc:1.000000]\n",
      "valid: 100%|██████████| 200/200 [00:00<00:00, 408.01img/s, loss:0.000007 acc:0.995000]\n"
     ]
    },
    {
     "name": "stdout",
     "output_type": "stream",
     "text": [
      "  3-> 35->103\n"
     ]
    },
    {
     "name": "stderr",
     "output_type": "stream",
     "text": [
      "train: 100%|██████████| 800/800 [00:02<00:00, 271.00img/s, loss:0.000000 acc:1.000000]\n",
      "valid: 100%|██████████| 200/200 [00:00<00:00, 297.41img/s, loss:0.000005 acc:0.995000]\n"
     ]
    },
    {
     "name": "stdout",
     "output_type": "stream",
     "text": [
      "  3-> 36->103\n"
     ]
    },
    {
     "name": "stderr",
     "output_type": "stream",
     "text": [
      "train: 100%|██████████| 800/800 [00:03<00:00, 235.73img/s, loss:0.000000 acc:1.000000]\n",
      "valid: 100%|██████████| 200/200 [00:00<00:00, 282.09img/s, loss:0.000005 acc:0.995000]\n"
     ]
    },
    {
     "name": "stdout",
     "output_type": "stream",
     "text": [
      "  3-> 37->103\n"
     ]
    },
    {
     "name": "stderr",
     "output_type": "stream",
     "text": [
      "train: 100%|██████████| 800/800 [00:03<00:00, 233.06img/s, loss:0.000000 acc:1.000000]\n",
      "valid: 100%|██████████| 200/200 [00:00<00:00, 312.48img/s, loss:0.000007 acc:0.995000]\n"
     ]
    },
    {
     "name": "stdout",
     "output_type": "stream",
     "text": [
      "  3-> 38->103\n"
     ]
    },
    {
     "name": "stderr",
     "output_type": "stream",
     "text": [
      "train: 100%|██████████| 800/800 [00:03<00:00, 241.55img/s, loss:0.000000 acc:1.000000]\n",
      "valid: 100%|██████████| 200/200 [00:00<00:00, 277.57img/s, loss:0.000007 acc:0.995000]\n"
     ]
    },
    {
     "name": "stdout",
     "output_type": "stream",
     "text": [
      "  3-> 39->103\n"
     ]
    },
    {
     "name": "stderr",
     "output_type": "stream",
     "text": [
      "train: 100%|██████████| 800/800 [00:03<00:00, 219.09img/s, loss:0.000000 acc:1.000000]\n",
      "valid: 100%|██████████| 200/200 [00:00<00:00, 289.62img/s, loss:0.000007 acc:0.995000]\n"
     ]
    },
    {
     "name": "stdout",
     "output_type": "stream",
     "text": [
      "  3-> 40->103\n"
     ]
    },
    {
     "name": "stderr",
     "output_type": "stream",
     "text": [
      "train: 100%|██████████| 800/800 [00:03<00:00, 216.27img/s, loss:0.000000 acc:1.000000]\n",
      "valid: 100%|██████████| 200/200 [00:00<00:00, 265.20img/s, loss:0.000005 acc:0.995000]\n"
     ]
    },
    {
     "name": "stdout",
     "output_type": "stream",
     "text": [
      "  3-> 41->103\n"
     ]
    },
    {
     "name": "stderr",
     "output_type": "stream",
     "text": [
      "train: 100%|██████████| 800/800 [00:03<00:00, 213.17img/s, loss:0.000000 acc:1.000000]\n",
      "valid: 100%|██████████| 200/200 [00:00<00:00, 291.29img/s, loss:0.000007 acc:0.995000]\n"
     ]
    },
    {
     "name": "stdout",
     "output_type": "stream",
     "text": [
      "  3-> 42->103\n"
     ]
    },
    {
     "name": "stderr",
     "output_type": "stream",
     "text": [
      "train: 100%|██████████| 800/800 [00:03<00:00, 228.87img/s, loss:0.000000 acc:1.000000]\n",
      "valid: 100%|██████████| 200/200 [00:00<00:00, 302.31img/s, loss:0.000005 acc:0.995000]\n"
     ]
    },
    {
     "name": "stdout",
     "output_type": "stream",
     "text": [
      "  3-> 43->103\n"
     ]
    },
    {
     "name": "stderr",
     "output_type": "stream",
     "text": [
      "train: 100%|██████████| 800/800 [00:03<00:00, 237.33img/s, loss:0.000000 acc:1.000000]\n",
      "valid: 100%|██████████| 200/200 [00:00<00:00, 302.05img/s, loss:0.000005 acc:0.995000]\n"
     ]
    },
    {
     "name": "stdout",
     "output_type": "stream",
     "text": [
      "  3-> 44->103\n"
     ]
    },
    {
     "name": "stderr",
     "output_type": "stream",
     "text": [
      "train: 100%|██████████| 800/800 [00:03<00:00, 244.57img/s, loss:0.000000 acc:1.000000]\n",
      "valid: 100%|██████████| 200/200 [00:00<00:00, 303.00img/s, loss:0.000006 acc:0.995000]\n"
     ]
    },
    {
     "name": "stdout",
     "output_type": "stream",
     "text": [
      "  3-> 45->103\n"
     ]
    },
    {
     "name": "stderr",
     "output_type": "stream",
     "text": [
      "train: 100%|██████████| 800/800 [00:03<00:00, 240.90img/s, loss:0.000000 acc:1.000000]\n",
      "valid: 100%|██████████| 200/200 [00:00<00:00, 320.85img/s, loss:0.000005 acc:0.995000]\n"
     ]
    },
    {
     "name": "stdout",
     "output_type": "stream",
     "text": [
      "  3-> 46->103\n"
     ]
    },
    {
     "name": "stderr",
     "output_type": "stream",
     "text": [
      "train: 100%|██████████| 800/800 [00:03<00:00, 237.67img/s, loss:0.000000 acc:1.000000]\n",
      "valid: 100%|██████████| 200/200 [00:00<00:00, 320.60img/s, loss:0.000005 acc:0.995000]\n"
     ]
    },
    {
     "name": "stdout",
     "output_type": "stream",
     "text": [
      "  3-> 47->103\n"
     ]
    },
    {
     "name": "stderr",
     "output_type": "stream",
     "text": [
      "train: 100%|██████████| 800/800 [00:03<00:00, 247.10img/s, loss:0.000000 acc:1.000000]\n",
      "valid: 100%|██████████| 200/200 [00:00<00:00, 321.53img/s, loss:0.000005 acc:0.995000]\n"
     ]
    },
    {
     "name": "stdout",
     "output_type": "stream",
     "text": [
      "  3-> 48->103\n"
     ]
    },
    {
     "name": "stderr",
     "output_type": "stream",
     "text": [
      "train: 100%|██████████| 800/800 [00:03<00:00, 240.62img/s, loss:0.000000 acc:1.000000]\n",
      "valid: 100%|██████████| 200/200 [00:00<00:00, 304.16img/s, loss:0.000005 acc:0.995000]\n"
     ]
    },
    {
     "name": "stdout",
     "output_type": "stream",
     "text": [
      "  3-> 49->103\n"
     ]
    },
    {
     "name": "stderr",
     "output_type": "stream",
     "text": [
      "train: 100%|██████████| 800/800 [00:03<00:00, 245.60img/s, loss:0.000000 acc:1.000000]\n",
      "valid: 100%|██████████| 200/200 [00:00<00:00, 326.95img/s, loss:0.000007 acc:0.995000]\n"
     ]
    },
    {
     "name": "stdout",
     "output_type": "stream",
     "text": [
      "  3-> 50->103\n"
     ]
    },
    {
     "name": "stderr",
     "output_type": "stream",
     "text": [
      "train: 100%|██████████| 800/800 [00:03<00:00, 241.29img/s, loss:0.000000 acc:1.000000]\n",
      "valid: 100%|██████████| 200/200 [00:00<00:00, 299.59img/s, loss:0.000006 acc:0.995000]\n"
     ]
    },
    {
     "name": "stdout",
     "output_type": "stream",
     "text": [
      "  3-> 51->103\n"
     ]
    },
    {
     "name": "stderr",
     "output_type": "stream",
     "text": [
      "train: 100%|██████████| 800/800 [00:03<00:00, 240.27img/s, loss:0.000000 acc:1.000000]\n",
      "valid: 100%|██████████| 200/200 [00:00<00:00, 314.61img/s, loss:0.000005 acc:0.995000]\n"
     ]
    },
    {
     "name": "stdout",
     "output_type": "stream",
     "text": [
      "  3-> 52->103\n"
     ]
    },
    {
     "name": "stderr",
     "output_type": "stream",
     "text": [
      "train: 100%|██████████| 800/800 [00:03<00:00, 246.58img/s, loss:0.000000 acc:1.000000]\n",
      "valid: 100%|██████████| 200/200 [00:00<00:00, 298.15img/s, loss:0.000007 acc:0.995000]\n"
     ]
    },
    {
     "name": "stdout",
     "output_type": "stream",
     "text": [
      "  3-> 53->103\n"
     ]
    },
    {
     "name": "stderr",
     "output_type": "stream",
     "text": [
      "train: 100%|██████████| 800/800 [00:03<00:00, 240.31img/s, loss:0.000000 acc:1.000000]\n",
      "valid: 100%|██████████| 200/200 [00:00<00:00, 302.57img/s, loss:0.000009 acc:0.995000]\n"
     ]
    },
    {
     "name": "stdout",
     "output_type": "stream",
     "text": [
      "  3-> 54->103\n"
     ]
    },
    {
     "name": "stderr",
     "output_type": "stream",
     "text": [
      "train: 100%|██████████| 800/800 [00:03<00:00, 240.89img/s, loss:0.000000 acc:1.000000]\n",
      "valid: 100%|██████████| 200/200 [00:00<00:00, 297.23img/s, loss:0.000005 acc:0.995000]\n"
     ]
    },
    {
     "name": "stdout",
     "output_type": "stream",
     "text": [
      "  3-> 55->103\n"
     ]
    },
    {
     "name": "stderr",
     "output_type": "stream",
     "text": [
      "train: 100%|██████████| 800/800 [00:03<00:00, 241.57img/s, loss:0.000000 acc:1.000000]\n",
      "valid: 100%|██████████| 200/200 [00:00<00:00, 328.66img/s, loss:0.000006 acc:0.995000]\n"
     ]
    },
    {
     "name": "stdout",
     "output_type": "stream",
     "text": [
      "  3-> 56->103\n"
     ]
    },
    {
     "name": "stderr",
     "output_type": "stream",
     "text": [
      "train: 100%|██████████| 800/800 [00:03<00:00, 233.76img/s, loss:0.000000 acc:1.000000]\n",
      "valid: 100%|██████████| 200/200 [00:00<00:00, 315.37img/s, loss:0.000007 acc:0.995000]\n"
     ]
    },
    {
     "name": "stdout",
     "output_type": "stream",
     "text": [
      "  3-> 57->103\n"
     ]
    },
    {
     "name": "stderr",
     "output_type": "stream",
     "text": [
      "train: 100%|██████████| 800/800 [00:03<00:00, 246.67img/s, loss:0.000000 acc:1.000000]\n",
      "valid: 100%|██████████| 200/200 [00:00<00:00, 289.81img/s, loss:0.000005 acc:0.995000]\n"
     ]
    },
    {
     "name": "stdout",
     "output_type": "stream",
     "text": [
      "  3-> 58->103\n"
     ]
    },
    {
     "name": "stderr",
     "output_type": "stream",
     "text": [
      "train: 100%|██████████| 800/800 [00:03<00:00, 237.17img/s, loss:0.000000 acc:1.000000]\n",
      "valid: 100%|██████████| 200/200 [00:00<00:00, 313.27img/s, loss:0.000005 acc:0.995000]\n"
     ]
    },
    {
     "name": "stdout",
     "output_type": "stream",
     "text": [
      "  3-> 59->103\n"
     ]
    },
    {
     "name": "stderr",
     "output_type": "stream",
     "text": [
      "train: 100%|██████████| 800/800 [00:03<00:00, 240.20img/s, loss:0.000000 acc:1.000000]\n",
      "valid: 100%|██████████| 200/200 [00:00<00:00, 299.85img/s, loss:0.000007 acc:0.995000]\n"
     ]
    },
    {
     "name": "stdout",
     "output_type": "stream",
     "text": [
      "  3-> 60->103\n"
     ]
    },
    {
     "name": "stderr",
     "output_type": "stream",
     "text": [
      "train: 100%|██████████| 800/800 [00:03<00:00, 243.11img/s, loss:0.000000 acc:1.000000]\n",
      "valid: 100%|██████████| 200/200 [00:00<00:00, 293.81img/s, loss:0.000006 acc:0.995000]\n"
     ]
    },
    {
     "name": "stdout",
     "output_type": "stream",
     "text": [
      "  3-> 61->103\n"
     ]
    },
    {
     "name": "stderr",
     "output_type": "stream",
     "text": [
      "train: 100%|██████████| 800/800 [00:03<00:00, 241.52img/s, loss:0.000000 acc:1.000000]\n",
      "valid: 100%|██████████| 200/200 [00:00<00:00, 300.48img/s, loss:0.000005 acc:0.995000]\n"
     ]
    },
    {
     "name": "stdout",
     "output_type": "stream",
     "text": [
      "  3-> 62->103\n"
     ]
    },
    {
     "name": "stderr",
     "output_type": "stream",
     "text": [
      "train: 100%|██████████| 800/800 [00:03<00:00, 233.01img/s, loss:0.000000 acc:1.000000]\n",
      "valid: 100%|██████████| 200/200 [00:00<00:00, 301.64img/s, loss:0.000005 acc:0.995000]\n"
     ]
    },
    {
     "name": "stdout",
     "output_type": "stream",
     "text": [
      "  3-> 63->103\n"
     ]
    },
    {
     "name": "stderr",
     "output_type": "stream",
     "text": [
      "train: 100%|██████████| 800/800 [00:03<00:00, 235.65img/s, loss:0.000000 acc:1.000000]\n",
      "valid: 100%|██████████| 200/200 [00:00<00:00, 296.86img/s, loss:0.000006 acc:0.995000]\n"
     ]
    },
    {
     "name": "stdout",
     "output_type": "stream",
     "text": [
      "  3-> 64->103\n"
     ]
    },
    {
     "name": "stderr",
     "output_type": "stream",
     "text": [
      "train: 100%|██████████| 800/800 [00:03<00:00, 236.53img/s, loss:0.000000 acc:1.000000]\n",
      "valid: 100%|██████████| 200/200 [00:00<00:00, 309.86img/s, loss:0.000007 acc:0.995000]\n"
     ]
    },
    {
     "name": "stdout",
     "output_type": "stream",
     "text": [
      "  3-> 65->103\n"
     ]
    },
    {
     "name": "stderr",
     "output_type": "stream",
     "text": [
      "train: 100%|██████████| 800/800 [00:03<00:00, 240.47img/s, loss:0.000000 acc:1.000000]\n",
      "valid: 100%|██████████| 200/200 [00:00<00:00, 302.35img/s, loss:0.000007 acc:0.995000]\n"
     ]
    },
    {
     "name": "stdout",
     "output_type": "stream",
     "text": [
      "  3-> 66->103\n"
     ]
    },
    {
     "name": "stderr",
     "output_type": "stream",
     "text": [
      "train: 100%|██████████| 800/800 [00:03<00:00, 238.91img/s, loss:0.000000 acc:1.000000]\n",
      "valid: 100%|██████████| 200/200 [00:00<00:00, 305.43img/s, loss:0.000006 acc:0.995000]\n"
     ]
    },
    {
     "name": "stdout",
     "output_type": "stream",
     "text": [
      "  3-> 67->103\n"
     ]
    },
    {
     "name": "stderr",
     "output_type": "stream",
     "text": [
      "train: 100%|██████████| 800/800 [00:03<00:00, 249.47img/s, loss:0.000000 acc:1.000000]\n",
      "valid: 100%|██████████| 200/200 [00:00<00:00, 301.58img/s, loss:0.000005 acc:0.995000]\n"
     ]
    },
    {
     "name": "stdout",
     "output_type": "stream",
     "text": [
      "  3-> 68->103\n"
     ]
    },
    {
     "name": "stderr",
     "output_type": "stream",
     "text": [
      "train: 100%|██████████| 800/800 [00:03<00:00, 241.58img/s, loss:0.000000 acc:1.000000]\n",
      "valid: 100%|██████████| 200/200 [00:00<00:00, 305.17img/s, loss:0.000006 acc:0.995000]\n"
     ]
    },
    {
     "name": "stdout",
     "output_type": "stream",
     "text": [
      "  3-> 69->103\n"
     ]
    },
    {
     "name": "stderr",
     "output_type": "stream",
     "text": [
      "train: 100%|██████████| 800/800 [00:03<00:00, 232.00img/s, loss:0.000000 acc:1.000000]\n",
      "valid: 100%|██████████| 200/200 [00:00<00:00, 304.56img/s, loss:0.000008 acc:0.995000]\n"
     ]
    },
    {
     "name": "stdout",
     "output_type": "stream",
     "text": [
      "  3-> 70->103\n"
     ]
    },
    {
     "name": "stderr",
     "output_type": "stream",
     "text": [
      "train: 100%|██████████| 800/800 [00:03<00:00, 238.08img/s, loss:0.000000 acc:1.000000]\n",
      "valid: 100%|██████████| 200/200 [00:00<00:00, 306.39img/s, loss:0.000005 acc:0.995000]\n"
     ]
    },
    {
     "name": "stdout",
     "output_type": "stream",
     "text": [
      "  3-> 71->103\n"
     ]
    },
    {
     "name": "stderr",
     "output_type": "stream",
     "text": [
      "train: 100%|██████████| 800/800 [00:03<00:00, 237.19img/s, loss:0.000000 acc:1.000000]\n",
      "valid: 100%|██████████| 200/200 [00:00<00:00, 308.13img/s, loss:0.000004 acc:0.995000]\n"
     ]
    },
    {
     "name": "stdout",
     "output_type": "stream",
     "text": [
      "  3-> 72->103\n"
     ]
    },
    {
     "name": "stderr",
     "output_type": "stream",
     "text": [
      "train: 100%|██████████| 800/800 [00:03<00:00, 234.87img/s, loss:0.000000 acc:1.000000]\n",
      "valid: 100%|██████████| 200/200 [00:00<00:00, 300.96img/s, loss:0.000004 acc:0.995000]\n"
     ]
    },
    {
     "name": "stdout",
     "output_type": "stream",
     "text": [
      "  3-> 73->103\n"
     ]
    },
    {
     "name": "stderr",
     "output_type": "stream",
     "text": [
      "train: 100%|██████████| 800/800 [00:03<00:00, 236.73img/s, loss:0.000000 acc:1.000000]\n",
      "valid: 100%|██████████| 200/200 [00:00<00:00, 319.88img/s, loss:0.000004 acc:0.995000]\n"
     ]
    },
    {
     "name": "stdout",
     "output_type": "stream",
     "text": [
      "  3-> 74->103\n"
     ]
    },
    {
     "name": "stderr",
     "output_type": "stream",
     "text": [
      "train: 100%|██████████| 800/800 [00:03<00:00, 245.65img/s, loss:0.000000 acc:1.000000]\n",
      "valid: 100%|██████████| 200/200 [00:00<00:00, 284.64img/s, loss:0.000007 acc:0.995000]\n"
     ]
    },
    {
     "name": "stdout",
     "output_type": "stream",
     "text": [
      "  3-> 75->103\n"
     ]
    },
    {
     "name": "stderr",
     "output_type": "stream",
     "text": [
      "train: 100%|██████████| 800/800 [00:03<00:00, 226.70img/s, loss:0.000000 acc:1.000000]\n",
      "valid: 100%|██████████| 200/200 [00:00<00:00, 295.84img/s, loss:0.000005 acc:0.995000]\n"
     ]
    },
    {
     "name": "stdout",
     "output_type": "stream",
     "text": [
      "  3-> 76->103\n"
     ]
    },
    {
     "name": "stderr",
     "output_type": "stream",
     "text": [
      "train: 100%|██████████| 800/800 [00:03<00:00, 229.13img/s, loss:0.000000 acc:1.000000]\n",
      "valid: 100%|██████████| 200/200 [00:00<00:00, 279.33img/s, loss:0.000007 acc:0.995000]\n"
     ]
    },
    {
     "name": "stdout",
     "output_type": "stream",
     "text": [
      "  3-> 77->103\n"
     ]
    },
    {
     "name": "stderr",
     "output_type": "stream",
     "text": [
      "train: 100%|██████████| 800/800 [00:03<00:00, 214.96img/s, loss:0.000000 acc:1.000000]\n",
      "valid: 100%|██████████| 200/200 [00:00<00:00, 292.36img/s, loss:0.000004 acc:0.995000]\n"
     ]
    },
    {
     "name": "stdout",
     "output_type": "stream",
     "text": [
      "  3-> 78->103\n"
     ]
    },
    {
     "name": "stderr",
     "output_type": "stream",
     "text": [
      "train: 100%|██████████| 800/800 [00:03<00:00, 232.38img/s, loss:0.000000 acc:1.000000]\n",
      "valid: 100%|██████████| 200/200 [00:00<00:00, 286.19img/s, loss:0.000005 acc:0.995000]\n"
     ]
    },
    {
     "name": "stdout",
     "output_type": "stream",
     "text": [
      "  3-> 79->103\n"
     ]
    },
    {
     "name": "stderr",
     "output_type": "stream",
     "text": [
      "train: 100%|██████████| 800/800 [00:03<00:00, 244.79img/s, loss:0.000000 acc:1.000000]\n",
      "valid: 100%|██████████| 200/200 [00:00<00:00, 319.76img/s, loss:0.000005 acc:0.995000]\n"
     ]
    },
    {
     "name": "stdout",
     "output_type": "stream",
     "text": [
      "  3-> 80->103\n"
     ]
    },
    {
     "name": "stderr",
     "output_type": "stream",
     "text": [
      "train: 100%|██████████| 800/800 [00:03<00:00, 227.80img/s, loss:0.000000 acc:1.000000]\n",
      "valid: 100%|██████████| 200/200 [00:00<00:00, 262.12img/s, loss:0.000007 acc:0.995000]\n"
     ]
    },
    {
     "name": "stdout",
     "output_type": "stream",
     "text": [
      "  3-> 81->103\n"
     ]
    },
    {
     "name": "stderr",
     "output_type": "stream",
     "text": [
      "train: 100%|██████████| 800/800 [00:03<00:00, 234.00img/s, loss:0.000000 acc:1.000000]\n",
      "valid: 100%|██████████| 200/200 [00:00<00:00, 340.72img/s, loss:0.000006 acc:1.000000]\n"
     ]
    },
    {
     "name": "stdout",
     "output_type": "stream",
     "text": [
      "  3-> 82->103\n"
     ]
    },
    {
     "name": "stderr",
     "output_type": "stream",
     "text": [
      "train: 100%|██████████| 800/800 [00:03<00:00, 244.68img/s, loss:0.000000 acc:1.000000]\n",
      "valid: 100%|██████████| 200/200 [00:00<00:00, 312.00img/s, loss:0.000006 acc:0.995000]\n"
     ]
    },
    {
     "name": "stdout",
     "output_type": "stream",
     "text": [
      "  3-> 83->103\n"
     ]
    },
    {
     "name": "stderr",
     "output_type": "stream",
     "text": [
      "train: 100%|██████████| 800/800 [00:03<00:00, 249.77img/s, loss:0.000000 acc:1.000000]\n",
      "valid: 100%|██████████| 200/200 [00:00<00:00, 289.28img/s, loss:0.000007 acc:0.995000]\n"
     ]
    },
    {
     "name": "stdout",
     "output_type": "stream",
     "text": [
      "  3-> 84->103\n"
     ]
    },
    {
     "name": "stderr",
     "output_type": "stream",
     "text": [
      "train: 100%|██████████| 800/800 [00:03<00:00, 237.77img/s, loss:0.000000 acc:1.000000]\n",
      "valid: 100%|██████████| 200/200 [00:00<00:00, 298.60img/s, loss:0.000004 acc:0.995000]\n"
     ]
    },
    {
     "name": "stdout",
     "output_type": "stream",
     "text": [
      "  3-> 85->103\n"
     ]
    },
    {
     "name": "stderr",
     "output_type": "stream",
     "text": [
      "train: 100%|██████████| 800/800 [00:03<00:00, 253.45img/s, loss:0.000000 acc:1.000000]\n",
      "valid: 100%|██████████| 200/200 [00:00<00:00, 308.85img/s, loss:0.000004 acc:1.000000]\n"
     ]
    },
    {
     "name": "stdout",
     "output_type": "stream",
     "text": [
      "  3-> 86->103\n"
     ]
    },
    {
     "name": "stderr",
     "output_type": "stream",
     "text": [
      "train: 100%|██████████| 800/800 [00:03<00:00, 240.76img/s, loss:0.000000 acc:1.000000]\n",
      "valid: 100%|██████████| 200/200 [00:00<00:00, 282.04img/s, loss:0.000005 acc:0.995000]\n"
     ]
    },
    {
     "name": "stdout",
     "output_type": "stream",
     "text": [
      "  3-> 87->103\n"
     ]
    },
    {
     "name": "stderr",
     "output_type": "stream",
     "text": [
      "train: 100%|██████████| 800/800 [00:03<00:00, 240.65img/s, loss:0.000000 acc:1.000000]\n",
      "valid: 100%|██████████| 200/200 [00:00<00:00, 289.16img/s, loss:0.000004 acc:1.000000]\n"
     ]
    },
    {
     "name": "stdout",
     "output_type": "stream",
     "text": [
      "  3-> 88->103\n"
     ]
    },
    {
     "name": "stderr",
     "output_type": "stream",
     "text": [
      "train: 100%|██████████| 800/800 [00:03<00:00, 247.83img/s, loss:0.000000 acc:1.000000]\n",
      "valid: 100%|██████████| 200/200 [00:00<00:00, 289.41img/s, loss:0.000007 acc:0.995000]\n"
     ]
    },
    {
     "name": "stdout",
     "output_type": "stream",
     "text": [
      "  3-> 89->103\n"
     ]
    },
    {
     "name": "stderr",
     "output_type": "stream",
     "text": [
      "train: 100%|██████████| 800/800 [00:03<00:00, 248.47img/s, loss:0.000000 acc:1.000000]\n",
      "valid: 100%|██████████| 200/200 [00:00<00:00, 301.72img/s, loss:0.000005 acc:1.000000]\n"
     ]
    },
    {
     "name": "stdout",
     "output_type": "stream",
     "text": [
      "  3-> 90->103\n"
     ]
    },
    {
     "name": "stderr",
     "output_type": "stream",
     "text": [
      "train: 100%|██████████| 800/800 [00:03<00:00, 246.56img/s, loss:0.000000 acc:1.000000]\n",
      "valid: 100%|██████████| 200/200 [00:00<00:00, 344.73img/s, loss:0.000005 acc:1.000000]\n"
     ]
    },
    {
     "name": "stdout",
     "output_type": "stream",
     "text": [
      "  3-> 91->103\n"
     ]
    },
    {
     "name": "stderr",
     "output_type": "stream",
     "text": [
      "train: 100%|██████████| 800/800 [00:03<00:00, 261.19img/s, loss:0.000000 acc:1.000000]\n",
      "valid: 100%|██████████| 200/200 [00:00<00:00, 296.62img/s, loss:0.000004 acc:1.000000]\n"
     ]
    },
    {
     "name": "stdout",
     "output_type": "stream",
     "text": [
      "  3-> 92->103\n"
     ]
    },
    {
     "name": "stderr",
     "output_type": "stream",
     "text": [
      "train: 100%|██████████| 800/800 [00:03<00:00, 243.79img/s, loss:0.000000 acc:1.000000]\n",
      "valid: 100%|██████████| 200/200 [00:00<00:00, 314.39img/s, loss:0.000006 acc:1.000000]\n"
     ]
    },
    {
     "name": "stdout",
     "output_type": "stream",
     "text": [
      "  3-> 93->103\n"
     ]
    },
    {
     "name": "stderr",
     "output_type": "stream",
     "text": [
      "train: 100%|██████████| 800/800 [00:03<00:00, 245.43img/s, loss:0.000000 acc:1.000000]\n",
      "valid: 100%|██████████| 200/200 [00:00<00:00, 317.49img/s, loss:0.000005 acc:1.000000]\n"
     ]
    },
    {
     "name": "stdout",
     "output_type": "stream",
     "text": [
      "  3-> 94->103\n"
     ]
    },
    {
     "name": "stderr",
     "output_type": "stream",
     "text": [
      "train: 100%|██████████| 800/800 [00:03<00:00, 248.37img/s, loss:0.000000 acc:1.000000]\n",
      "valid: 100%|██████████| 200/200 [00:00<00:00, 302.56img/s, loss:0.000005 acc:1.000000]\n"
     ]
    },
    {
     "name": "stdout",
     "output_type": "stream",
     "text": [
      "  3-> 95->103\n"
     ]
    },
    {
     "name": "stderr",
     "output_type": "stream",
     "text": [
      "train: 100%|██████████| 800/800 [00:03<00:00, 258.46img/s, loss:0.000000 acc:1.000000]\n",
      "valid: 100%|██████████| 200/200 [00:00<00:00, 301.99img/s, loss:0.000004 acc:1.000000]\n"
     ]
    },
    {
     "name": "stdout",
     "output_type": "stream",
     "text": [
      "  3-> 96->103\n"
     ]
    },
    {
     "name": "stderr",
     "output_type": "stream",
     "text": [
      "train: 100%|██████████| 800/800 [00:03<00:00, 242.99img/s, loss:0.000000 acc:1.000000]\n",
      "valid: 100%|██████████| 200/200 [00:00<00:00, 321.53img/s, loss:0.000004 acc:1.000000]\n"
     ]
    },
    {
     "name": "stdout",
     "output_type": "stream",
     "text": [
      "  3-> 97->103\n"
     ]
    },
    {
     "name": "stderr",
     "output_type": "stream",
     "text": [
      "train: 100%|██████████| 800/800 [00:03<00:00, 245.54img/s, loss:0.000000 acc:1.000000]\n",
      "valid: 100%|██████████| 200/200 [00:00<00:00, 324.78img/s, loss:0.000006 acc:1.000000]\n"
     ]
    },
    {
     "name": "stdout",
     "output_type": "stream",
     "text": [
      "  3-> 98->103\n"
     ]
    },
    {
     "name": "stderr",
     "output_type": "stream",
     "text": [
      "train: 100%|██████████| 800/800 [00:03<00:00, 262.26img/s, loss:0.000000 acc:1.000000]\n",
      "valid: 100%|██████████| 200/200 [00:00<00:00, 298.78img/s, loss:0.000005 acc:1.000000]\n"
     ]
    },
    {
     "name": "stdout",
     "output_type": "stream",
     "text": [
      "  3-> 99->103\n"
     ]
    },
    {
     "name": "stderr",
     "output_type": "stream",
     "text": [
      "train: 100%|██████████| 800/800 [00:03<00:00, 257.30img/s, loss:0.000000 acc:1.000000]\n",
      "valid: 100%|██████████| 200/200 [00:00<00:00, 343.12img/s, loss:0.000005 acc:1.000000]\n"
     ]
    },
    {
     "name": "stdout",
     "output_type": "stream",
     "text": [
      "  3->100->103\n"
     ]
    },
    {
     "name": "stderr",
     "output_type": "stream",
     "text": [
      "train: 100%|██████████| 800/800 [00:03<00:00, 245.18img/s, loss:0.000000 acc:1.000000]\n",
      "valid: 100%|██████████| 200/200 [00:00<00:00, 317.91img/s, loss:0.000005 acc:1.000000]\n"
     ]
    },
    {
     "name": "stdout",
     "output_type": "stream",
     "text": [
      "  3->101->103\n"
     ]
    },
    {
     "name": "stderr",
     "output_type": "stream",
     "text": [
      "train: 100%|██████████| 800/800 [00:03<00:00, 242.47img/s, loss:0.000000 acc:1.000000]\n",
      "valid: 100%|██████████| 200/200 [00:00<00:00, 311.68img/s, loss:0.000004 acc:1.000000]\n"
     ]
    },
    {
     "name": "stdout",
     "output_type": "stream",
     "text": [
      "  3->102->103\n"
     ]
    },
    {
     "name": "stderr",
     "output_type": "stream",
     "text": [
      "train: 100%|██████████| 800/800 [00:03<00:00, 240.37img/s, loss:0.000000 acc:1.000000]\n",
      "valid: 100%|██████████| 200/200 [00:00<00:00, 297.64img/s, loss:0.000006 acc:1.000000]\n"
     ]
    }
   ],
   "source": [
    "resumed = False\n",
    "\n",
    "train_loss_list = []\n",
    "valid_loss_list = []\n",
    "\n",
    "for epoch in range(\n",
    "    args.start_epoch + 1,\n",
    "    args.start_epoch + 1 + args.num_epochs,\n",
    ") :\n",
    "    print(\n",
    "        \"{:3d}->{:3d}->{:3d}\".format(\n",
    "            args.start_epoch + 1,\n",
    "            epoch,\n",
    "            args.start_epoch + 1 + args.num_epochs,\n",
    "        ),\n",
    "    )\n",
    "    \n",
    "    # train\n",
    "    model.train(True)\n",
    "\n",
    "    data_len_accum = 0\n",
    "    loss_accum = 0.0\n",
    "    accuracy_accum = 0\n",
    "    with tqdm.tqdm(total = len(train_data_loader.dataset), desc=\"train\", unit=\"img\") as pbar :    \n",
    "        \n",
    "        for i, (inputs, labels) in enumerate(train_data_loader) :\n",
    "            if use_gpu :\n",
    "                inputs = Variable(inputs.cuda())\n",
    "                labels = Variable(labels.cuda())\n",
    "            else :\n",
    "                inputs, labels = Variable(inputs), Variable(labels)\n",
    "            \n",
    "            optimizer.zero_grad()\n",
    "            outputs = model(inputs)\n",
    "\n",
    "            loss = criterion(outputs, labels)\n",
    "            loss.backward()\n",
    "            optimizer.step()                \n",
    "\n",
    "            loss_accum += loss.item()\n",
    "            accuracy_accum += len(list(filter(\n",
    "                lambda x : x.sum() == len(x),\n",
    "                torch.round(outputs) == labels\n",
    "            )))\n",
    "            data_len_accum += inputs.shape[0]\n",
    "            \n",
    "            pbar.update(inputs.shape[0])\n",
    "            pbar.set_postfix_str(\n",
    "                \"loss:{:.6f} acc:{:.6f}\".format(\n",
    "                    loss_accum / data_len_accum,\n",
    "                    accuracy_accum / data_len_accum,\n",
    "                )\n",
    "            )\n",
    "        train_loss_list.append(loss_accum / data_len_accum)\n",
    "\n",
    "    # valid\n",
    "    model.train(False)\n",
    "    \n",
    "    data_len_accum = 0\n",
    "    loss_accum = 0.0\n",
    "    accuracy_accum = 0\n",
    "    with tqdm.tqdm(total = len(valid_data_loader.dataset), desc=\"valid\", unit=\"img\") as pbar :    \n",
    "        for i, (inputs, labels) in enumerate(valid_data_loader) :\n",
    "            if use_gpu:\n",
    "                inputs = Variable(inputs.cuda())\n",
    "                labels = Variable(labels.cuda())\n",
    "            else:\n",
    "                inputs, labels = Variable(inputs), Variable(labels)\n",
    "\n",
    "            outputs = model(inputs)\n",
    "            loss = criterion(outputs, labels)\n",
    "\n",
    "            loss_accum += loss.item()\n",
    "            accuracy_accum += len(list(filter(\n",
    "                lambda x : x.sum() == len(x),\n",
    "                torch.round(outputs) == labels\n",
    "            )))\n",
    "            data_len_accum += inputs.shape[0]\n",
    "            \n",
    "            pbar.update(inputs.shape[0])\n",
    "            pbar.set_postfix_str(\n",
    "                \"loss:{:.6f} acc:{:.6f}\".format(\n",
    "                    loss_accum / data_len_accum,\n",
    "                    accuracy_accum / data_len_accum,\n",
    "                )\n",
    "            )\n",
    "        valid_loss_list.append(loss_accum / data_len_accum)\n",
    "\n",
    "    if (epoch+1) % args.save_epoch_freq == 0 :\n",
    "        if not os.path.exists(args.save_path) :\n",
    "            os.makedirs(args.save_path)\n",
    "        torch.save(\n",
    "            model.state_dict(),\n",
    "            os.path.join(\n",
    "                args.save_path,\n",
    "                f\"epoch_{str(epoch)}_{str(int(time.time()))}.pth\",\n",
    "            )\n",
    "        )"
   ]
  },
  {
   "cell_type": "code",
   "execution_count": 5,
   "metadata": {},
   "outputs": [
    {
     "data": {
      "image/png": "[encoded data removed]",
      "text/plain": [
       "<Figure size 432x288 with 1 Axes>"
      ]
     },
     "metadata": {
      "needs_background": "light"
     },
     "output_type": "display_data"
    }
   ],
   "source": [
    "import matplotlib.pyplot as plt\n",
    "\n",
    "plt.plot(train_loss_list)\n",
    "plt.plot(valid_loss_list)\n",
    "plt.show()"
   ]
  },
  {
   "cell_type": "code",
   "execution_count": 14,
   "metadata": {},
   "outputs": [
    {
     "data": {
      "text/plain": [
       "array([[48,  0],\n",
       "       [ 0, 12]], dtype=int64)"
      ]
     },
     "execution_count": 14,
     "metadata": {},
     "output_type": "execute_result"
    }
   ],
   "source": [
    "from sklearn.metrics import confusion_matrix\n",
    "\n",
    "\n",
    "pred = model(inputs)\n",
    "pred_np = pred.detach().cpu().round()\n",
    "labels_np = labels.detach().cpu()\n",
    "confusion_matrix(pred_np[:, 1], labels_np[:,1])"
   ]
  },
  {
   "cell_type": "code",
   "execution_count": 12,
   "metadata": {},
   "outputs": [
    {
     "data": {
      "text/plain": [
       "torch.Size([60, 6])"
      ]
     },
     "execution_count": 12,
     "metadata": {},
     "output_type": "execute_result"
    }
   ],
   "source": [
    "labels_np.shape"
   ]
  },
  {
   "cell_type": "code",
   "execution_count": null,
   "metadata": {},
   "outputs": [],
   "source": []
  }
 ],
 "metadata": {
  "kernelspec": {
   "display_name": "Python 3.9.12 ('base')",
   "language": "python",
   "name": "python3"
  },
  "language_info": {
   "codemirror_mode": {
    "name": "ipython",
    "version": 3
   },
   "file_extension": ".py",
   "mimetype": "text/x-python",
   "name": "python",
   "nbconvert_exporter": "python",
   "pygments_lexer": "ipython3",
   "version": "3.9.12"
  },
  "orig_nbformat": 4,
  "vscode": {
   "interpreter": {
    "hash": "10eb691bccf4257ab2fd488ca240ccf2dbe4f63e86b02aaf0035184014e5e0fd"
   }
  }
 },
 "nbformat": 4,
 "nbformat_minor": 2
}
